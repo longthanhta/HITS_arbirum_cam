{
 "cells": [
  {
   "cell_type": "markdown",
   "id": "b93967f3-eec1-4a23-9f04-39b89f6f8d23",
   "metadata": {},
   "source": [
    "# Hyperlink-Induced Topic Search to find scam account on twitter during arbitrum airdrop."
   ]
  },
  {
   "cell_type": "markdown",
   "id": "9f5c0069-e0d6-4bdc-8e96-38996436275a",
   "metadata": {},
   "source": [
    "This works because of how the authority score and hub score function. A good authority publishes news that many hubs reference, while a good hub cites news from reliable authorities. In the case of the scam, a fake official Arbitrum account was created, and other scam accounts amplified it by sharing its link. This link contained a phishing site designed to steal information from users' wallets."
   ]
  },
  {
   "cell_type": "code",
   "execution_count": 1,
   "id": "5321f939-a905-4949-af29-1064ab811f5e",
   "metadata": {},
   "outputs": [],
   "source": [
    "import os\n",
    "import re\n",
    "from bs4 import BeautifulSoup, Comment\n",
    "from tqdm import tqdm\n",
    "import pandas as pd\n",
    "import networkx as nx\n",
    "from pyvis.network import Network\n",
    "import numpy as np\n",
    "from networkx.algorithms.community import greedy_modularity_communities\n"
   ]
  },
  {
   "cell_type": "markdown",
   "id": "695f964b-6dfa-4776-a4b3-d7a859bafa2f",
   "metadata": {},
   "source": [
    "# Get data  "
   ]
  },
  {
   "cell_type": "markdown",
   "id": "b62cd18e-06c0-440f-bb75-6c488c1b6920",
   "metadata": {},
   "source": [
    "Download data from https://osome.iu.edu/tools/networks/?hashtag=%23ARB,+%23Airdrop,+%23Arbitrum&network_type=rq&start_date=2023-03-16&end_date=2023-03-30​"
   ]
  },
  {
   "cell_type": "code",
   "execution_count": 2,
   "id": "b5905fec-253d-4eb5-8b21-e499c69a9b16",
   "metadata": {},
   "outputs": [],
   "source": [
    "file_path='Twitter_ARB_Airdrop_Arbitrum_Osome.csv'"
   ]
  },
  {
   "cell_type": "code",
   "execution_count": 3,
   "id": "d2042d54-79fa-4df0-b575-ae3a00494626",
   "metadata": {},
   "outputs": [
    {
     "data": {
      "text/html": [
       "<div>\n",
       "<style scoped>\n",
       "    .dataframe tbody tr th:only-of-type {\n",
       "        vertical-align: middle;\n",
       "    }\n",
       "\n",
       "    .dataframe tbody tr th {\n",
       "        vertical-align: top;\n",
       "    }\n",
       "\n",
       "    .dataframe thead th {\n",
       "        text-align: right;\n",
       "    }\n",
       "</style>\n",
       "<table border=\"1\" class=\"dataframe\">\n",
       "  <thead>\n",
       "    <tr style=\"text-align: right;\">\n",
       "      <th></th>\n",
       "      <th>id</th>\n",
       "      <th>source</th>\n",
       "      <th>target</th>\n",
       "      <th>tweet_id</th>\n",
       "      <th>type</th>\n",
       "    </tr>\n",
       "  </thead>\n",
       "  <tbody>\n",
       "    <tr>\n",
       "      <th>0</th>\n",
       "      <td>riderbaken444AirdropDet</td>\n",
       "      <td>riderbaken444</td>\n",
       "      <td>AirdropDet</td>\n",
       "      <td>1639687149871308800</td>\n",
       "      <td>retweet</td>\n",
       "    </tr>\n",
       "    <tr>\n",
       "      <th>1</th>\n",
       "      <td>riderbaken444ArbitrumCharts</td>\n",
       "      <td>riderbaken444</td>\n",
       "      <td>ArbitrumCharts</td>\n",
       "      <td>1640509722947362816</td>\n",
       "      <td>retweet</td>\n",
       "    </tr>\n",
       "    <tr>\n",
       "      <th>2</th>\n",
       "      <td>riderbaken444Lumishare_Lumi</td>\n",
       "      <td>riderbaken444</td>\n",
       "      <td>Lumishare_Lumi</td>\n",
       "      <td>1636601129915289600</td>\n",
       "      <td>retweet</td>\n",
       "    </tr>\n",
       "    <tr>\n",
       "      <th>3</th>\n",
       "      <td>RKorneliusarbitnum</td>\n",
       "      <td>RKornelius</td>\n",
       "      <td>arbitnum</td>\n",
       "      <td>1641470108248809475</td>\n",
       "      <td>retweet</td>\n",
       "    </tr>\n",
       "    <tr>\n",
       "      <th>4</th>\n",
       "      <td>RKorneliusarbitruns</td>\n",
       "      <td>RKornelius</td>\n",
       "      <td>arbitruns</td>\n",
       "      <td>1641168281087123459</td>\n",
       "      <td>retweet</td>\n",
       "    </tr>\n",
       "    <tr>\n",
       "      <th>...</th>\n",
       "      <td>...</td>\n",
       "      <td>...</td>\n",
       "      <td>...</td>\n",
       "      <td>...</td>\n",
       "      <td>...</td>\n",
       "    </tr>\n",
       "    <tr>\n",
       "      <th>73775</th>\n",
       "      <td>welcomtoherearbiturum</td>\n",
       "      <td>welcomtohere</td>\n",
       "      <td>arbiturum</td>\n",
       "      <td>1639973761347735552</td>\n",
       "      <td>retweet</td>\n",
       "    </tr>\n",
       "    <tr>\n",
       "      <th>73776</th>\n",
       "      <td>welcomtoherearitbum</td>\n",
       "      <td>welcomtohere</td>\n",
       "      <td>aritbum</td>\n",
       "      <td>1641079789246201857</td>\n",
       "      <td>retweet</td>\n",
       "    </tr>\n",
       "    <tr>\n",
       "      <th>73777</th>\n",
       "      <td>globawingsCryptoTechDAO</td>\n",
       "      <td>globawings</td>\n",
       "      <td>CryptoTechDAO</td>\n",
       "      <td>1638161749043204098</td>\n",
       "      <td>retweet</td>\n",
       "    </tr>\n",
       "    <tr>\n",
       "      <th>73778</th>\n",
       "      <td>globawingsZenith_Swap</td>\n",
       "      <td>globawings</td>\n",
       "      <td>Zenith_Swap</td>\n",
       "      <td>1641546444988624899</td>\n",
       "      <td>retweet</td>\n",
       "    </tr>\n",
       "    <tr>\n",
       "      <th>73779</th>\n",
       "      <td>globawingsgoodfriend0906</td>\n",
       "      <td>globawings</td>\n",
       "      <td>goodfriend0906</td>\n",
       "      <td>1637031045240623104</td>\n",
       "      <td>retweet</td>\n",
       "    </tr>\n",
       "  </tbody>\n",
       "</table>\n",
       "<p>73780 rows × 5 columns</p>\n",
       "</div>"
      ],
      "text/plain": [
       "                                id         source          target  \\\n",
       "0          riderbaken444AirdropDet  riderbaken444      AirdropDet   \n",
       "1      riderbaken444ArbitrumCharts  riderbaken444  ArbitrumCharts   \n",
       "2      riderbaken444Lumishare_Lumi  riderbaken444  Lumishare_Lumi   \n",
       "3               RKorneliusarbitnum     RKornelius        arbitnum   \n",
       "4              RKorneliusarbitruns     RKornelius       arbitruns   \n",
       "...                            ...            ...             ...   \n",
       "73775        welcomtoherearbiturum   welcomtohere       arbiturum   \n",
       "73776          welcomtoherearitbum   welcomtohere         aritbum   \n",
       "73777      globawingsCryptoTechDAO     globawings   CryptoTechDAO   \n",
       "73778        globawingsZenith_Swap     globawings     Zenith_Swap   \n",
       "73779     globawingsgoodfriend0906     globawings  goodfriend0906   \n",
       "\n",
       "                  tweet_id     type  \n",
       "0      1639687149871308800  retweet  \n",
       "1      1640509722947362816  retweet  \n",
       "2      1636601129915289600  retweet  \n",
       "3      1641470108248809475  retweet  \n",
       "4      1641168281087123459  retweet  \n",
       "...                    ...      ...  \n",
       "73775  1639973761347735552  retweet  \n",
       "73776  1641079789246201857  retweet  \n",
       "73777  1638161749043204098  retweet  \n",
       "73778  1641546444988624899  retweet  \n",
       "73779  1637031045240623104  retweet  \n",
       "\n",
       "[73780 rows x 5 columns]"
      ]
     },
     "execution_count": 3,
     "metadata": {},
     "output_type": "execute_result"
    }
   ],
   "source": [
    "data_df=pd.read_csv(file_path)\n",
    "data_df"
   ]
  },
  {
   "cell_type": "markdown",
   "id": "4fed7ceb-3e1c-41d9-af1b-38393b0eee19",
   "metadata": {},
   "source": [
    "# Generate the graph"
   ]
  },
  {
   "cell_type": "code",
   "execution_count": 4,
   "id": "7970e1e9-9ab6-4dad-b4c8-4c9102382aba",
   "metadata": {},
   "outputs": [
    {
     "name": "stderr",
     "output_type": "stream",
     "text": [
      "100%|█████████████████████████████████████████████████████████████████████████| 73780/73780 [00:02<00:00, 27147.84it/s]\n"
     ]
    }
   ],
   "source": [
    "\n",
    "# Create a NetworkX graph from the DataFrame\n",
    "G = nx.DiGraph()\n",
    "\n",
    "for _, row in tqdm(data_df.iterrows(),total=len(data_df)):\n",
    "    G.add_edge(row['source'], row['target'], tweet_id=row['tweet_id'], type=row['type'])"
   ]
  },
  {
   "cell_type": "code",
   "execution_count": 5,
   "id": "317aa768-bc45-42f3-a128-301a8ee07214",
   "metadata": {},
   "outputs": [
    {
     "name": "stdout",
     "output_type": "stream",
     "text": [
      "total 20794 nodes, and 73780 edges\n"
     ]
    }
   ],
   "source": [
    "num_nodes = G.number_of_nodes()\n",
    "num_edges = G.number_of_edges()\n",
    "print('total',num_nodes,'nodes, and',num_edges,'edges')"
   ]
  },
  {
   "cell_type": "markdown",
   "id": "e13fb7e5-2127-4ad3-bc9d-f9d5aeece9a5",
   "metadata": {},
   "source": [
    "# In-degree analyze"
   ]
  },
  {
   "cell_type": "markdown",
   "id": "372e24f5-1a11-45b9-ba36-9238bb78fa26",
   "metadata": {},
   "source": [
    "With in-degree analyze, can already see the scam. But the offical CryptoTechDAO page got recognized in the top also"
   ]
  },
  {
   "cell_type": "code",
   "execution_count": 6,
   "id": "1b5f5fc7-c2ea-483b-bbdc-669274f27bf7",
   "metadata": {},
   "outputs": [],
   "source": [
    "# Calculate in-degree and out-degree for each node\n",
    "in_degrees = G.in_degree()\n",
    "out_degrees = G.out_degree()\n",
    "\n",
    "# Sort nodes based on in-degree and out-degree\n",
    "sorted_by_in_degree =  pd.DataFrame(sorted(in_degrees, key=lambda x: x[1], reverse=True),columns=['Address','in_degree'])\n",
    "sorted_by_out_degree = pd.DataFrame(sorted(out_degrees, key=lambda x: x[1], reverse=True),columns=['Address','out_degree'])"
   ]
  },
  {
   "cell_type": "markdown",
   "id": "068bd8c4-edd5-48ef-9d4a-02bcaf0df190",
   "metadata": {},
   "source": [
    "The scam account set the name look similar to atribtrum but small different (like arbrtum)"
   ]
  },
  {
   "cell_type": "code",
   "execution_count": 7,
   "id": "50e8fe4b-7ee4-4100-86c1-1315c547a09b",
   "metadata": {},
   "outputs": [
    {
     "data": {
      "text/html": [
       "<div>\n",
       "<style scoped>\n",
       "    .dataframe tbody tr th:only-of-type {\n",
       "        vertical-align: middle;\n",
       "    }\n",
       "\n",
       "    .dataframe tbody tr th {\n",
       "        vertical-align: top;\n",
       "    }\n",
       "\n",
       "    .dataframe thead th {\n",
       "        text-align: right;\n",
       "    }\n",
       "</style>\n",
       "<table border=\"1\" class=\"dataframe\">\n",
       "  <thead>\n",
       "    <tr style=\"text-align: right;\">\n",
       "      <th></th>\n",
       "      <th>Address</th>\n",
       "      <th>in_degree</th>\n",
       "    </tr>\n",
       "  </thead>\n",
       "  <tbody>\n",
       "    <tr>\n",
       "      <th>0</th>\n",
       "      <td>arbitruns</td>\n",
       "      <td>6837</td>\n",
       "    </tr>\n",
       "    <tr>\n",
       "      <th>1</th>\n",
       "      <td>arbiturum</td>\n",
       "      <td>6717</td>\n",
       "    </tr>\n",
       "    <tr>\n",
       "      <th>2</th>\n",
       "      <td>aritbum</td>\n",
       "      <td>6566</td>\n",
       "    </tr>\n",
       "    <tr>\n",
       "      <th>3</th>\n",
       "      <td>arbitnum</td>\n",
       "      <td>5945</td>\n",
       "    </tr>\n",
       "    <tr>\n",
       "      <th>4</th>\n",
       "      <td>aribrtum</td>\n",
       "      <td>3189</td>\n",
       "    </tr>\n",
       "    <tr>\n",
       "      <th>5</th>\n",
       "      <td>CryptoTechDAO</td>\n",
       "      <td>2540</td>\n",
       "    </tr>\n",
       "    <tr>\n",
       "      <th>6</th>\n",
       "      <td>AirdropDet</td>\n",
       "      <td>1510</td>\n",
       "    </tr>\n",
       "    <tr>\n",
       "      <th>7</th>\n",
       "      <td>viannneey7</td>\n",
       "      <td>1176</td>\n",
       "    </tr>\n",
       "    <tr>\n",
       "      <th>8</th>\n",
       "      <td>META_STARx</td>\n",
       "      <td>893</td>\n",
       "    </tr>\n",
       "    <tr>\n",
       "      <th>9</th>\n",
       "      <td>Web_3space</td>\n",
       "      <td>735</td>\n",
       "    </tr>\n",
       "  </tbody>\n",
       "</table>\n",
       "</div>"
      ],
      "text/plain": [
       "         Address  in_degree\n",
       "0      arbitruns       6837\n",
       "1      arbiturum       6717\n",
       "2        aritbum       6566\n",
       "3       arbitnum       5945\n",
       "4       aribrtum       3189\n",
       "5  CryptoTechDAO       2540\n",
       "6     AirdropDet       1510\n",
       "7     viannneey7       1176\n",
       "8     META_STARx        893\n",
       "9     Web_3space        735"
      ]
     },
     "execution_count": 7,
     "metadata": {},
     "output_type": "execute_result"
    }
   ],
   "source": [
    "sorted_by_in_degree.head(10)"
   ]
  },
  {
   "cell_type": "markdown",
   "id": "ed549a8d-4399-4b06-bdd5-a1e1ddfc5251",
   "metadata": {},
   "source": [
    "And the officla in the position of 113"
   ]
  },
  {
   "cell_type": "code",
   "execution_count": 17,
   "id": "3324f5b6-2813-48ce-a828-c4ac1d3abf5a",
   "metadata": {},
   "outputs": [
    {
     "data": {
      "text/html": [
       "<div>\n",
       "<style scoped>\n",
       "    .dataframe tbody tr th:only-of-type {\n",
       "        vertical-align: middle;\n",
       "    }\n",
       "\n",
       "    .dataframe tbody tr th {\n",
       "        vertical-align: top;\n",
       "    }\n",
       "\n",
       "    .dataframe thead th {\n",
       "        text-align: right;\n",
       "    }\n",
       "</style>\n",
       "<table border=\"1\" class=\"dataframe\">\n",
       "  <thead>\n",
       "    <tr style=\"text-align: right;\">\n",
       "      <th></th>\n",
       "      <th>Address</th>\n",
       "      <th>in_degree</th>\n",
       "    </tr>\n",
       "  </thead>\n",
       "  <tbody>\n",
       "    <tr>\n",
       "      <th>94</th>\n",
       "      <td>arbitrum</td>\n",
       "      <td>113</td>\n",
       "    </tr>\n",
       "  </tbody>\n",
       "</table>\n",
       "</div>"
      ],
      "text/plain": [
       "     Address  in_degree\n",
       "94  arbitrum        113"
      ]
     },
     "execution_count": 17,
     "metadata": {},
     "output_type": "execute_result"
    }
   ],
   "source": [
    "sorted_by_in_degree[sorted_by_in_degree['Address']=='arbitrum']"
   ]
  },
  {
   "cell_type": "markdown",
   "id": "a9fc578a-7346-4c1e-8848-de7597dd374b",
   "metadata": {},
   "source": [
    "# Sorted by out degree cannot solve much"
   ]
  },
  {
   "cell_type": "code",
   "execution_count": 20,
   "id": "d50c6c21-3c9a-40d7-8294-df96288c2b37",
   "metadata": {},
   "outputs": [
    {
     "data": {
      "text/html": [
       "<div>\n",
       "<style scoped>\n",
       "    .dataframe tbody tr th:only-of-type {\n",
       "        vertical-align: middle;\n",
       "    }\n",
       "\n",
       "    .dataframe tbody tr th {\n",
       "        vertical-align: top;\n",
       "    }\n",
       "\n",
       "    .dataframe thead th {\n",
       "        text-align: right;\n",
       "    }\n",
       "</style>\n",
       "<table border=\"1\" class=\"dataframe\">\n",
       "  <thead>\n",
       "    <tr style=\"text-align: right;\">\n",
       "      <th></th>\n",
       "      <th>Address</th>\n",
       "      <th>out_degree</th>\n",
       "    </tr>\n",
       "  </thead>\n",
       "  <tbody>\n",
       "    <tr>\n",
       "      <th>0</th>\n",
       "      <td>Ayse1060</td>\n",
       "      <td>22</td>\n",
       "    </tr>\n",
       "    <tr>\n",
       "      <th>1</th>\n",
       "      <td>Emblem3_Rock</td>\n",
       "      <td>21</td>\n",
       "    </tr>\n",
       "    <tr>\n",
       "      <th>2</th>\n",
       "      <td>moon15114</td>\n",
       "      <td>19</td>\n",
       "    </tr>\n",
       "    <tr>\n",
       "      <th>3</th>\n",
       "      <td>MuhdAlMuizz_</td>\n",
       "      <td>18</td>\n",
       "    </tr>\n",
       "    <tr>\n",
       "      <th>4</th>\n",
       "      <td>ezname30</td>\n",
       "      <td>17</td>\n",
       "    </tr>\n",
       "    <tr>\n",
       "      <th>5</th>\n",
       "      <td>IdGypro</td>\n",
       "      <td>17</td>\n",
       "    </tr>\n",
       "    <tr>\n",
       "      <th>6</th>\n",
       "      <td>VaiCommon</td>\n",
       "      <td>17</td>\n",
       "    </tr>\n",
       "    <tr>\n",
       "      <th>7</th>\n",
       "      <td>CryptoHero22</td>\n",
       "      <td>16</td>\n",
       "    </tr>\n",
       "    <tr>\n",
       "      <th>8</th>\n",
       "      <td>Davidlavy6</td>\n",
       "      <td>16</td>\n",
       "    </tr>\n",
       "    <tr>\n",
       "      <th>9</th>\n",
       "      <td>SpivaJake</td>\n",
       "      <td>16</td>\n",
       "    </tr>\n",
       "  </tbody>\n",
       "</table>\n",
       "</div>"
      ],
      "text/plain": [
       "        Address  out_degree\n",
       "0      Ayse1060          22\n",
       "1  Emblem3_Rock          21\n",
       "2     moon15114          19\n",
       "3  MuhdAlMuizz_          18\n",
       "4      ezname30          17\n",
       "5       IdGypro          17\n",
       "6     VaiCommon          17\n",
       "7  CryptoHero22          16\n",
       "8    Davidlavy6          16\n",
       "9     SpivaJake          16"
      ]
     },
     "execution_count": 20,
     "metadata": {},
     "output_type": "execute_result"
    }
   ],
   "source": [
    "sorted_by_out_degree.head(10)"
   ]
  },
  {
   "cell_type": "markdown",
   "id": "8c879472-560f-4f69-9ec9-df342b54ec46",
   "metadata": {},
   "source": [
    "# Now run HITS model "
   ]
  },
  {
   "cell_type": "markdown",
   "id": "8810aefc-3e1e-42a4-911a-c217113224f1",
   "metadata": {},
   "source": [
    "Hyperlink-Induced Topic Search"
   ]
  },
  {
   "cell_type": "code",
   "execution_count": 23,
   "id": "290be03a-e8bb-4507-b389-f830b6edb340",
   "metadata": {},
   "outputs": [
    {
     "data": {
      "text/html": [
       "<div>\n",
       "<style scoped>\n",
       "    .dataframe tbody tr th:only-of-type {\n",
       "        vertical-align: middle;\n",
       "    }\n",
       "\n",
       "    .dataframe tbody tr th {\n",
       "        vertical-align: top;\n",
       "    }\n",
       "\n",
       "    .dataframe thead th {\n",
       "        text-align: right;\n",
       "    }\n",
       "</style>\n",
       "<table border=\"1\" class=\"dataframe\">\n",
       "  <thead>\n",
       "    <tr style=\"text-align: right;\">\n",
       "      <th></th>\n",
       "      <th>Name</th>\n",
       "      <th>Hub_score</th>\n",
       "    </tr>\n",
       "  </thead>\n",
       "  <tbody>\n",
       "    <tr>\n",
       "      <th>0</th>\n",
       "      <td>mares_sean</td>\n",
       "      <td>0.000165</td>\n",
       "    </tr>\n",
       "    <tr>\n",
       "      <th>1</th>\n",
       "      <td>Jj06123205</td>\n",
       "      <td>0.000165</td>\n",
       "    </tr>\n",
       "    <tr>\n",
       "      <th>2</th>\n",
       "      <td>Sue72136164</td>\n",
       "      <td>0.000165</td>\n",
       "    </tr>\n",
       "    <tr>\n",
       "      <th>3</th>\n",
       "      <td>fofo49310106</td>\n",
       "      <td>0.000165</td>\n",
       "    </tr>\n",
       "    <tr>\n",
       "      <th>4</th>\n",
       "      <td>bootyiseveryday</td>\n",
       "      <td>0.000165</td>\n",
       "    </tr>\n",
       "    <tr>\n",
       "      <th>5</th>\n",
       "      <td>bananakanna</td>\n",
       "      <td>0.000165</td>\n",
       "    </tr>\n",
       "    <tr>\n",
       "      <th>6</th>\n",
       "      <td>Charlie68Kirby</td>\n",
       "      <td>0.000165</td>\n",
       "    </tr>\n",
       "    <tr>\n",
       "      <th>7</th>\n",
       "      <td>78Marcus</td>\n",
       "      <td>0.000165</td>\n",
       "    </tr>\n",
       "    <tr>\n",
       "      <th>8</th>\n",
       "      <td>SKoss1</td>\n",
       "      <td>0.000165</td>\n",
       "    </tr>\n",
       "    <tr>\n",
       "      <th>9</th>\n",
       "      <td>John_Huey96</td>\n",
       "      <td>0.000165</td>\n",
       "    </tr>\n",
       "  </tbody>\n",
       "</table>\n",
       "</div>"
      ],
      "text/plain": [
       "              Name  Hub_score\n",
       "0       mares_sean   0.000165\n",
       "1       Jj06123205   0.000165\n",
       "2      Sue72136164   0.000165\n",
       "3     fofo49310106   0.000165\n",
       "4  bootyiseveryday   0.000165\n",
       "5      bananakanna   0.000165\n",
       "6   Charlie68Kirby   0.000165\n",
       "7         78Marcus   0.000165\n",
       "8           SKoss1   0.000165\n",
       "9      John_Huey96   0.000165"
      ]
     },
     "execution_count": 23,
     "metadata": {},
     "output_type": "execute_result"
    }
   ],
   "source": [
    "hits = nx.hits(G)\n",
    "result_hits_hub_df= pd.DataFrame(list(hits[0].items()), columns=['Name', 'Value'])\n",
    "result_hits_hub_df=result_hits_hub_df.sort_values('Value',ascending=False).reset_index(drop=True)\n",
    "#result_hits_hub_df['Link']='https://x.com/'+result_df['Name']\n",
    "result_hits_hub_df['Hub_score']=result_hits_hub_df['Value']\n",
    "result_hits_hub_df=result_hits_hub_df.drop('Value',axis=1)\n",
    "result_hits_hub_df.head(100).to_csv('hub.csv')\n",
    "result_hits_hub_df.head(10)"
   ]
  },
  {
   "cell_type": "markdown",
   "id": "54f7276a-95cc-4d93-b50f-395e608ae9bd",
   "metadata": {},
   "source": [
    "Sorting by auth score revealed scam ones."
   ]
  },
  {
   "cell_type": "code",
   "execution_count": 28,
   "id": "d58bab39-cec1-4af7-8256-ab7d7d9cf026",
   "metadata": {},
   "outputs": [
    {
     "data": {
      "text/html": [
       "<div>\n",
       "<style scoped>\n",
       "    .dataframe tbody tr th:only-of-type {\n",
       "        vertical-align: middle;\n",
       "    }\n",
       "\n",
       "    .dataframe tbody tr th {\n",
       "        vertical-align: top;\n",
       "    }\n",
       "\n",
       "    .dataframe thead th {\n",
       "        text-align: right;\n",
       "    }\n",
       "</style>\n",
       "<table border=\"1\" class=\"dataframe\">\n",
       "  <thead>\n",
       "    <tr style=\"text-align: right;\">\n",
       "      <th></th>\n",
       "      <th>Name</th>\n",
       "      <th>Auth_score</th>\n",
       "    </tr>\n",
       "  </thead>\n",
       "  <tbody>\n",
       "    <tr>\n",
       "      <th>0</th>\n",
       "      <td>arbitruns</td>\n",
       "      <td>0.221651</td>\n",
       "    </tr>\n",
       "    <tr>\n",
       "      <th>1</th>\n",
       "      <td>aritbum</td>\n",
       "      <td>0.213765</td>\n",
       "    </tr>\n",
       "    <tr>\n",
       "      <th>2</th>\n",
       "      <td>arbiturum</td>\n",
       "      <td>0.208127</td>\n",
       "    </tr>\n",
       "    <tr>\n",
       "      <th>3</th>\n",
       "      <td>arbitnum</td>\n",
       "      <td>0.193788</td>\n",
       "    </tr>\n",
       "    <tr>\n",
       "      <th>4</th>\n",
       "      <td>aribrtum</td>\n",
       "      <td>0.099525</td>\n",
       "    </tr>\n",
       "    <tr>\n",
       "      <th>5</th>\n",
       "      <td>viannneey7</td>\n",
       "      <td>0.024563</td>\n",
       "    </tr>\n",
       "    <tr>\n",
       "      <th>6</th>\n",
       "      <td>arditrums</td>\n",
       "      <td>0.012175</td>\n",
       "    </tr>\n",
       "    <tr>\n",
       "      <th>7</th>\n",
       "      <td>FFujissy</td>\n",
       "      <td>0.009502</td>\n",
       "    </tr>\n",
       "    <tr>\n",
       "      <th>8</th>\n",
       "      <td>free_ts</td>\n",
       "      <td>0.006061</td>\n",
       "    </tr>\n",
       "    <tr>\n",
       "      <th>9</th>\n",
       "      <td>mizyntochuj19</td>\n",
       "      <td>0.004013</td>\n",
       "    </tr>\n",
       "  </tbody>\n",
       "</table>\n",
       "</div>"
      ],
      "text/plain": [
       "            Name  Auth_score\n",
       "0      arbitruns    0.221651\n",
       "1        aritbum    0.213765\n",
       "2      arbiturum    0.208127\n",
       "3       arbitnum    0.193788\n",
       "4       aribrtum    0.099525\n",
       "5     viannneey7    0.024563\n",
       "6      arditrums    0.012175\n",
       "7       FFujissy    0.009502\n",
       "8        free_ts    0.006061\n",
       "9  mizyntochuj19    0.004013"
      ]
     },
     "execution_count": 28,
     "metadata": {},
     "output_type": "execute_result"
    }
   ],
   "source": [
    "result_auth_root_df= pd.DataFrame(list(hits[1].items()), columns=['Name', 'Value'])\n",
    "result_auth_root_df=result_auth_root_df.sort_values('Value',ascending=False).reset_index(drop=True)\n",
    "#result_auth_root_df['Link']='https://x.com/'+result_df['Name']\n",
    "result_auth_root_df['Auth_score']=result_auth_root_df['Value']\n",
    "result_auth_root_df=result_auth_root_df.drop('Value',axis=1)\n",
    "result_auth_root_df.head(100).to_csv('auth.csv')\n",
    "result_auth_root_df.head(10)"
   ]
  },
  {
   "cell_type": "markdown",
   "id": "6f24f272-f4d0-4a15-aec7-a75bcc5c98e0",
   "metadata": {},
   "source": [
    "but this time the CryptoTechDAO is not in the top anymore"
   ]
  },
  {
   "cell_type": "code",
   "execution_count": 29,
   "id": "60f52c39-e557-414a-99b6-423027b21b36",
   "metadata": {},
   "outputs": [
    {
     "data": {
      "text/html": [
       "<div>\n",
       "<style scoped>\n",
       "    .dataframe tbody tr th:only-of-type {\n",
       "        vertical-align: middle;\n",
       "    }\n",
       "\n",
       "    .dataframe tbody tr th {\n",
       "        vertical-align: top;\n",
       "    }\n",
       "\n",
       "    .dataframe thead th {\n",
       "        text-align: right;\n",
       "    }\n",
       "</style>\n",
       "<table border=\"1\" class=\"dataframe\">\n",
       "  <thead>\n",
       "    <tr style=\"text-align: right;\">\n",
       "      <th></th>\n",
       "      <th>Name</th>\n",
       "      <th>Auth_score</th>\n",
       "    </tr>\n",
       "  </thead>\n",
       "  <tbody>\n",
       "    <tr>\n",
       "      <th>67</th>\n",
       "      <td>CryptoTechDAO</td>\n",
       "      <td>1.545342e-07</td>\n",
       "    </tr>\n",
       "  </tbody>\n",
       "</table>\n",
       "</div>"
      ],
      "text/plain": [
       "             Name    Auth_score\n",
       "67  CryptoTechDAO  1.545342e-07"
      ]
     },
     "execution_count": 29,
     "metadata": {},
     "output_type": "execute_result"
    }
   ],
   "source": [
    "result_auth_root_df[result_auth_root_df['Name']=='CryptoTechDAO']"
   ]
  },
  {
   "cell_type": "markdown",
   "id": "a2fe4618-be35-40f5-bb54-4b5c063a02be",
   "metadata": {},
   "source": [
    "and the offical arbitrum also far away from top "
   ]
  },
  {
   "cell_type": "code",
   "execution_count": 25,
   "id": "74bc389f-470d-49b1-a5e1-66d8e038d90f",
   "metadata": {},
   "outputs": [
    {
     "data": {
      "text/html": [
       "<div>\n",
       "<style scoped>\n",
       "    .dataframe tbody tr th:only-of-type {\n",
       "        vertical-align: middle;\n",
       "    }\n",
       "\n",
       "    .dataframe tbody tr th {\n",
       "        vertical-align: top;\n",
       "    }\n",
       "\n",
       "    .dataframe thead th {\n",
       "        text-align: right;\n",
       "    }\n",
       "</style>\n",
       "<table border=\"1\" class=\"dataframe\">\n",
       "  <thead>\n",
       "    <tr style=\"text-align: right;\">\n",
       "      <th></th>\n",
       "      <th>Name</th>\n",
       "      <th>Auth_score</th>\n",
       "    </tr>\n",
       "  </thead>\n",
       "  <tbody>\n",
       "    <tr>\n",
       "      <th>123</th>\n",
       "      <td>arbitrum</td>\n",
       "      <td>3.273933e-09</td>\n",
       "    </tr>\n",
       "  </tbody>\n",
       "</table>\n",
       "</div>"
      ],
      "text/plain": [
       "         Name    Auth_score\n",
       "123  arbitrum  3.273933e-09"
      ]
     },
     "execution_count": 25,
     "metadata": {},
     "output_type": "execute_result"
    }
   ],
   "source": [
    "result_auth_root_df[result_auth_root_df['Name']=='arbitrum']"
   ]
  },
  {
   "cell_type": "code",
   "execution_count": null,
   "id": "5e5fdb61-8bb6-4170-96fb-789092df64b1",
   "metadata": {},
   "outputs": [],
   "source": []
  },
  {
   "cell_type": "code",
   "execution_count": null,
   "id": "530f52f5-47d9-4a12-b6d0-98525b6e721d",
   "metadata": {},
   "outputs": [],
   "source": []
  }
 ],
 "metadata": {
  "kernelspec": {
   "display_name": "Python 3 (ipykernel)",
   "language": "python",
   "name": "python3"
  },
  "language_info": {
   "codemirror_mode": {
    "name": "ipython",
    "version": 3
   },
   "file_extension": ".py",
   "mimetype": "text/x-python",
   "name": "python",
   "nbconvert_exporter": "python",
   "pygments_lexer": "ipython3",
   "version": "3.12.3"
  }
 },
 "nbformat": 4,
 "nbformat_minor": 5
}
